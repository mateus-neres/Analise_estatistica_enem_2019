{
  "nbformat": 4,
  "nbformat_minor": 0,
  "metadata": {
    "colab": {
      "provenance": [],
      "mount_file_id": "1bvTQ_Cb1MicI1vA_Vc5yVMRVIkKDXSpt",
      "authorship_tag": "ABX9TyPbVGVTfwZe1MHwolWesC8X",
      "include_colab_link": true
    },
    "kernelspec": {
      "name": "python3",
      "display_name": "Python 3"
    },
    "language_info": {
      "name": "python"
    }
  },
  "cells": [
    {
      "cell_type": "markdown",
      "metadata": {
        "id": "view-in-github",
        "colab_type": "text"
      },
      "source": [
        "<a href=\"https://colab.research.google.com/github/mateus-neres/projeto_de_analise_estatistica_enem_2019/blob/main/etapa07_distribuicao.ipynb\" target=\"_parent\"><img src=\"https://colab.research.google.com/assets/colab-badge.svg\" alt=\"Open In Colab\"/></a>"
      ]
    },
    {
      "cell_type": "markdown",
      "source": [
        "#DSITRIBUIÇÃO DISCRETA"
      ],
      "metadata": {
        "id": "dvdnyox_aHGX"
      }
    },
    {
      "cell_type": "code",
      "execution_count": 12,
      "metadata": {
        "id": "MQX7pTmbZBrS"
      },
      "outputs": [],
      "source": [
        "import pandas as pd\n",
        "import numpy as np"
      ]
    },
    {
      "cell_type": "code",
      "source": [
        "enem_sp = pd.read_csv(\"/content/drive/MyDrive/curso_Udemy/curso_estatistica_python/enem_2019_tratado.csv\",\n",
        "                      sep=\",\", encoding=(\"iso-8859-1\"))"
      ],
      "metadata": {
        "id": "c-OsyVhiZhkK"
      },
      "execution_count": 13,
      "outputs": []
    },
    {
      "cell_type": "markdown",
      "source": [
        "##Distribuição Binomial"
      ],
      "metadata": {
        "id": "0eGAAvB5aRY3"
      }
    },
    {
      "cell_type": "code",
      "source": [
        "from scipy.stats import binom"
      ],
      "metadata": {
        "id": "v-aUUfu4aEKr"
      },
      "execution_count": 14,
      "outputs": []
    },
    {
      "cell_type": "code",
      "source": [
        "# Probabilidade de tirar uma mulher\n",
        "mulher_enem = enem_sp.loc[enem_sp.SEXO == \"F\"]"
      ],
      "metadata": {
        "id": "Uz_ABkh2afGn"
      },
      "execution_count": 15,
      "outputs": []
    },
    {
      "cell_type": "code",
      "source": [
        "p = len(mulher_enem) / len(enem_sp)\n",
        "p"
      ],
      "metadata": {
        "colab": {
          "base_uri": "https://localhost:8080/"
        },
        "id": "F5D-dOaXbJUj",
        "outputId": "2a311189-59fe-433f-d698-973d04a12ed5"
      },
      "execution_count": 16,
      "outputs": [
        {
          "output_type": "execute_result",
          "data": {
            "text/plain": [
              "0.5803136376365163"
            ]
          },
          "metadata": {},
          "execution_count": 16
        }
      ]
    },
    {
      "cell_type": "markdown",
      "source": [
        "##Aplicação da função\n",
        "\n",
        "###binon.pmf = valor pontual\n",
        "\n",
        "###binon.cdf = faixa de valores (acumulada)\n"
      ],
      "metadata": {
        "id": "RAe-RNcTcMoM"
      }
    },
    {
      "cell_type": "code",
      "source": [
        "# PROBABILIDADE DE RETIRAR EXATAMENTE 4 MULHERES EM UMA AMOSTRA DE 10\n",
        "\n",
        "binom.pmf(4,10,p)\n",
        "\n",
        "# PRIMEIRO PARÂMENTRO: VALOR OU LIMITE QUE SE PRETENDE CALCULAR.\n",
        "# SEGUNFO PARÂMENTRO: NÚMEROS DE TENTATIVAS\n",
        "# TERCEIRO PARÂMENTRO: PROBABILIDADE DE SUCESSO"
      ],
      "metadata": {
        "colab": {
          "base_uri": "https://localhost:8080/"
        },
        "id": "EX7h8h9zcfRa",
        "outputId": "c4b0c751-d5cf-40f9-853d-16c59d20b212"
      },
      "execution_count": 17,
      "outputs": [
        {
          "output_type": "execute_result",
          "data": {
            "text/plain": [
              "0.13014261971434243"
            ]
          },
          "metadata": {},
          "execution_count": 17
        }
      ]
    },
    {
      "cell_type": "code",
      "source": [
        "# PROBABILIDADE DE RETIRAR PELO MENOS UMA MULHERES EM UMA AMOSTRA DE 10\n",
        "p0 = 1 - binom.pmf(0,10,p)\n",
        "p0"
      ],
      "metadata": {
        "colab": {
          "base_uri": "https://localhost:8080/"
        },
        "id": "szS10TxMfCET",
        "outputId": "23eb1309-b79f-48e6-a4cf-a7179ef2b399"
      },
      "execution_count": 18,
      "outputs": [
        {
          "output_type": "execute_result",
          "data": {
            "text/plain": [
              "0.9998304692157152"
            ]
          },
          "metadata": {},
          "execution_count": 18
        }
      ]
    },
    {
      "cell_type": "code",
      "source": [
        "# PROBABILIDADE DE RETIRAR MAIS DO QUE UMA MULHERES EM UMA AMOSTRA DE 10\n",
        "p1 = 1 - (binom.pmf(0,10,p) + binom.pmf(1,10,p))\n",
        "p1"
      ],
      "metadata": {
        "colab": {
          "base_uri": "https://localhost:8080/"
        },
        "id": "wqv09CPAf6Cm",
        "outputId": "7a364945-98bc-4e91-af10-e738a6f0644b"
      },
      "execution_count": 19,
      "outputs": [
        {
          "output_type": "execute_result",
          "data": {
            "text/plain": [
              "0.997486313318782"
            ]
          },
          "metadata": {},
          "execution_count": 19
        }
      ]
    },
    {
      "cell_type": "code",
      "source": [
        "# PROBABILIDADE DE RETIRAR MAIS DO QUE TRÊS MULHERES EM UMA AMOSTRA DE 10\n",
        "p2 = 1 - (binom.pmf(0,10,p) + binom.pmf(1,10,p) + binom.pmf(2,10,p) + binom.pmf(3,10,p))\n",
        "p2"
      ],
      "metadata": {
        "colab": {
          "base_uri": "https://localhost:8080/"
        },
        "id": "oVOlXf4tgP_e",
        "outputId": "f7fd94ad-a3e5-4e1e-8e02-3a1cc65e0571"
      },
      "execution_count": 21,
      "outputs": [
        {
          "output_type": "execute_result",
          "data": {
            "text/plain": [
              "0.929117468512205"
            ]
          },
          "metadata": {},
          "execution_count": 21
        }
      ]
    },
    {
      "cell_type": "code",
      "source": [
        "# Outra forma\n",
        "p3 = 1 - binom.cdf(3,10,p)\n",
        "p3"
      ],
      "metadata": {
        "colab": {
          "base_uri": "https://localhost:8080/"
        },
        "id": "g7LD6DyqiXv5",
        "outputId": "42745218-5789-4815-f7c2-cdf7cde9ff99"
      },
      "execution_count": 22,
      "outputs": [
        {
          "output_type": "execute_result",
          "data": {
            "text/plain": [
              "0.929117468512205"
            ]
          },
          "metadata": {},
          "execution_count": 22
        }
      ]
    },
    {
      "cell_type": "code",
      "source": [
        "p4 =(binom.pmf(9,10,p)+binom.pmf(10,10,p))\n",
        "p4"
      ],
      "metadata": {
        "colab": {
          "base_uri": "https://localhost:8080/"
        },
        "id": "TerGeauWiwhp",
        "outputId": "07afa1f1-936e-45f5-dfd8-3e7f70b7ddb8"
      },
      "execution_count": 26,
      "outputs": [
        {
          "output_type": "execute_result",
          "data": {
            "text/plain": [
              "0.0356563059595738"
            ]
          },
          "metadata": {},
          "execution_count": 26
        }
      ]
    },
    {
      "cell_type": "code",
      "source": [
        "p5 = binom.cdf(10,10,p) - binom.cdf(8,10,p)\n",
        "p5"
      ],
      "metadata": {
        "colab": {
          "base_uri": "https://localhost:8080/"
        },
        "id": "IQxUAIRDi_6D",
        "outputId": "fff7939d-0ff4-46fa-a02a-004db94547c6"
      },
      "execution_count": 27,
      "outputs": [
        {
          "output_type": "execute_result",
          "data": {
            "text/plain": [
              "0.03565630595957381"
            ]
          },
          "metadata": {},
          "execution_count": 27
        }
      ]
    },
    {
      "cell_type": "code",
      "source": [
        "p6 = 1 - binom.cdf(8,10,p)\n",
        "p5"
      ],
      "metadata": {
        "colab": {
          "base_uri": "https://localhost:8080/"
        },
        "id": "sBX2th1NjZcY",
        "outputId": "faa5a430-e109-455f-a43a-14eac4bf6df4"
      },
      "execution_count": 28,
      "outputs": [
        {
          "output_type": "execute_result",
          "data": {
            "text/plain": [
              "0.03565630595957381"
            ]
          },
          "metadata": {},
          "execution_count": 28
        }
      ]
    },
    {
      "cell_type": "markdown",
      "source": [
        "##Distribuição geométrica"
      ],
      "metadata": {
        "id": "szX32yrBjsbP"
      }
    },
    {
      "cell_type": "code",
      "source": [
        "from scipy.stats import geom"
      ],
      "metadata": {
        "id": "hKeIz8Lrj5VW"
      },
      "execution_count": 29,
      "outputs": []
    },
    {
      "cell_type": "code",
      "source": [
        "# PROBABILIDADE DE RETIRAR 3 AMOSTRAS E NENHUMA SER MULHER\n",
        "# geom.pmf(x,p) x representa as tentativas que se obtiveram sucesso e p a probabilidade\n",
        "geom.pmf(4,p)"
      ],
      "metadata": {
        "colab": {
          "base_uri": "https://localhost:8080/"
        },
        "id": "WTrHG17kkDVB",
        "outputId": "ee14e794-34ce-46c6-86c8-dd15e8f38b4f"
      },
      "execution_count": 30,
      "outputs": [
        {
          "output_type": "execute_result",
          "data": {
            "text/plain": [
              "0.042898029955685306"
            ]
          },
          "metadata": {},
          "execution_count": 30
        }
      ]
    },
    {
      "cell_type": "markdown",
      "source": [
        "#DISTRIBUIÇÃO DE POISSON"
      ],
      "metadata": {
        "id": "Ih4j-CWlmazd"
      }
    },
    {
      "cell_type": "code",
      "source": [
        "from scipy.stats import poisson"
      ],
      "metadata": {
        "id": "3eDJoMoJmeke"
      },
      "execution_count": 31,
      "outputs": []
    },
    {
      "cell_type": "code",
      "source": [
        "# Num local de prova, 100 vestibulando, normalmente, terminaram a prova  em 2 horas (Tempo minimo).\n",
        "# Probabilide de exatamente 90 vestibulandos terminarem a prova em 2 horas.\n",
        "\n",
        "# poisson.pmf(x, m) x é a quantidade de ocorrência em estudo e m é a taxa de ocorrência.\n",
        "\n",
        "poisson.pmf(90,100)"
      ],
      "metadata": {
        "colab": {
          "base_uri": "https://localhost:8080/"
        },
        "id": "IrMSS2-bmnJy",
        "outputId": "98f2153e-d501-45a3-9454-abec02ae7517"
      },
      "execution_count": 32,
      "outputs": [
        {
          "output_type": "execute_result",
          "data": {
            "text/plain": [
              "0.025038944623030353"
            ]
          },
          "metadata": {},
          "execution_count": 32
        }
      ]
    }
  ]
}
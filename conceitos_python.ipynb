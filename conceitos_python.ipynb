{
  "nbformat": 4,
  "nbformat_minor": 0,
  "metadata": {
    "colab": {
      "provenance": [],
      "authorship_tag": "ABX9TyPnqoCnA4eKxRh/XxpzIWGB",
      "include_colab_link": true
    },
    "kernelspec": {
      "name": "python3",
      "display_name": "Python 3"
    },
    "language_info": {
      "name": "python"
    }
  },
  "cells": [
    {
      "cell_type": "markdown",
      "metadata": {
        "id": "view-in-github",
        "colab_type": "text"
      },
      "source": [
        "<a href=\"https://colab.research.google.com/github/mateus-neres/projeto_de_analise_estatistica_enem_2019/blob/main/conceitos_python.ipynb\" target=\"_parent\"><img src=\"https://colab.research.google.com/assets/colab-badge.svg\" alt=\"Open In Colab\"/></a>"
      ]
    },
    {
      "cell_type": "markdown",
      "source": [
        "#**Importações de bibliotecas (Pacotes) e módulos**"
      ],
      "metadata": {
        "id": "3iqv2a92BIu1"
      }
    },
    {
      "cell_type": "code",
      "source": [
        "import numpy as np"
      ],
      "metadata": {
        "id": "JtYzRYdFBTxd"
      },
      "execution_count": null,
      "outputs": []
    },
    {
      "cell_type": "code",
      "source": [
        "import math"
      ],
      "metadata": {
        "id": "hygxEYI4BbI9"
      },
      "execution_count": null,
      "outputs": []
    },
    {
      "cell_type": "code",
      "source": [
        "n = 18\n",
        "\n",
        "raiz_n = math.sqrt(n)\n",
        "\n",
        "print(f\"{raiz_n:.2f}\")"
      ],
      "metadata": {
        "colab": {
          "base_uri": "https://localhost:8080/"
        },
        "id": "GFRqebejCwjv",
        "outputId": "948db94b-d749-43d2-cbfb-00f357636828"
      },
      "execution_count": null,
      "outputs": [
        {
          "output_type": "stream",
          "name": "stdout",
          "text": [
            "4.24\n"
          ]
        }
      ]
    },
    {
      "cell_type": "markdown",
      "source": [
        "#**For and While: Estruturas de repetições**"
      ],
      "metadata": {
        "id": "QN9SiOd7F-IQ"
      }
    },
    {
      "cell_type": "code",
      "source": [
        "for c in range (1,6):\n",
        "  print(c)"
      ],
      "metadata": {
        "colab": {
          "base_uri": "https://localhost:8080/"
        },
        "id": "ie-bq8c-F6hT",
        "outputId": "23239e2c-7249-4e67-cea5-603b2db38dc7"
      },
      "execution_count": null,
      "outputs": [
        {
          "output_type": "stream",
          "name": "stdout",
          "text": [
            "1\n",
            "2\n",
            "3\n",
            "4\n",
            "5\n"
          ]
        }
      ]
    },
    {
      "cell_type": "code",
      "source": [
        "list = [1,2,3,4,10]\n",
        "for numero in list:\n",
        "  print(numero * 2)\n",
        "print(list[0])"
      ],
      "metadata": {
        "colab": {
          "base_uri": "https://localhost:8080/"
        },
        "id": "-L2NTCzqF6wK",
        "outputId": "277bf5cf-7b5a-4403-f932-0238c0d0245b"
      },
      "execution_count": null,
      "outputs": [
        {
          "output_type": "stream",
          "name": "stdout",
          "text": [
            "2\n",
            "4\n",
            "6\n",
            "8\n",
            "20\n",
            "1\n"
          ]
        }
      ]
    },
    {
      "cell_type": "code",
      "source": [
        "soma = 0\n",
        "cont = 0\n",
        "for c in range (1,6):\n",
        "  num = int(input('Digite o {}°5 valor: .'.format(c)))\n",
        "  if soma % 2 == 0:\n",
        "    soma += num\n",
        "    cont += 1\n",
        "  print(\"Você informou {} número pares e a soma deles é igual a {}.\".format(cont, soma))"
      ],
      "metadata": {
        "colab": {
          "base_uri": "https://localhost:8080/"
        },
        "id": "HtzkGdRrF678",
        "outputId": "c2c41003-d989-48c1-f094-d78ae78e6351"
      },
      "execution_count": null,
      "outputs": [
        {
          "output_type": "stream",
          "name": "stdout",
          "text": [
            "Digite o 1° valor: .2\n",
            "Você informou 1 número pares e a soma deles é igual a 2.\n",
            "Digite o 2° valor: .7\n",
            "Você informou 2 número pares e a soma deles é igual a 9.\n",
            "Digite o 3° valor: .9\n",
            "Você informou 2 número pares e a soma deles é igual a 9.\n",
            "Digite o 4° valor: .8\n",
            "Você informou 2 número pares e a soma deles é igual a 9.\n",
            "Digite o 5° valor: .2\n",
            "Você informou 2 número pares e a soma deles é igual a 9.\n"
          ]
        }
      ]
    },
    {
      "cell_type": "code",
      "source": [
        "c = 1\n",
        "while c < 10:\n",
        "  s = c + 1\n",
        "  print(s)\n",
        "  c += 1\n",
        "print(\"FIM!\")"
      ],
      "metadata": {
        "colab": {
          "base_uri": "https://localhost:8080/"
        },
        "id": "u85D94XFF6-d",
        "outputId": "8fbfa92e-1c3a-421d-a625-15ad8623e8b1"
      },
      "execution_count": null,
      "outputs": [
        {
          "output_type": "stream",
          "name": "stdout",
          "text": [
            "2\n",
            "3\n",
            "4\n",
            "5\n",
            "6\n",
            "7\n",
            "8\n",
            "9\n",
            "10\n",
            "FIM!\n"
          ]
        }
      ]
    },
    {
      "cell_type": "markdown",
      "source": [
        "#**Listas, Tuplas e Dicionários**\n",
        "\n",
        "Listas []\n",
        "\n",
        "tuplas ()\n",
        "\n",
        "Dicionários {}"
      ],
      "metadata": {
        "id": "ck3kp5LfJ_Y6"
      }
    },
    {
      "cell_type": "code",
      "source": [
        "num = [2,5,7,9]\n",
        "print(num)\n",
        "num [3] = 4 # No lugar do elemento na posição 3 (númeor 9) vai ser colocado o número 4.\n",
        "print(num)"
      ],
      "metadata": {
        "colab": {
          "base_uri": "https://localhost:8080/"
        },
        "id": "NgSMslnFF7BG",
        "outputId": "8acc055c-52f2-4a11-8145-02ef6ccf04f7"
      },
      "execution_count": null,
      "outputs": [
        {
          "output_type": "stream",
          "name": "stdout",
          "text": [
            "[2, 5, 7, 9]\n",
            "[2, 5, 7, 4]\n"
          ]
        }
      ]
    },
    {
      "cell_type": "markdown",
      "source": [
        "#**Fuções**"
      ],
      "metadata": {
        "id": "QiqYxUQE0QoS"
      }
    },
    {
      "cell_type": "code",
      "source": [
        "def identificador(nome,idade):\n",
        "  print(f\"Olá {nome}\\nVocê é jovem, tem apenas {idade}\")"
      ],
      "metadata": {
        "id": "4nm-25XVF7Dq"
      },
      "execution_count": null,
      "outputs": []
    },
    {
      "cell_type": "code",
      "source": [
        "identificador(\"luciano\", 46)"
      ],
      "metadata": {
        "id": "JjuOIv6jF7IZ",
        "colab": {
          "base_uri": "https://localhost:8080/"
        },
        "outputId": "63d1c57b-1009-4db8-86b6-8c80b0eb6472"
      },
      "execution_count": null,
      "outputs": [
        {
          "output_type": "stream",
          "name": "stdout",
          "text": [
            "Olá luciano\n",
            "Você é jovem, tem apenas 46\n"
          ]
        }
      ]
    },
    {
      "cell_type": "code",
      "source": [
        "def maior(x,y):\n",
        "  if x < y:\n",
        "    print(f\"O maior número é {y}\")\n",
        "  elif x == y:\n",
        "    print(\"Os números são iguais\")\n",
        "  else:\n",
        "    print(f\"O maior número é {x}\")"
      ],
      "metadata": {
        "id": "_e2P6EnhF7Km"
      },
      "execution_count": null,
      "outputs": []
    },
    {
      "cell_type": "code",
      "source": [
        "maior(21,16)"
      ],
      "metadata": {
        "id": "FIe8-FWVF7M0",
        "colab": {
          "base_uri": "https://localhost:8080/"
        },
        "outputId": "60ad0892-7d06-4a7d-c181-8d6fb5d931ac"
      },
      "execution_count": null,
      "outputs": [
        {
          "output_type": "stream",
          "name": "stdout",
          "text": [
            "O maior número é 21\n"
          ]
        }
      ]
    },
    {
      "cell_type": "code",
      "source": [
        "def pitagoras(cat1, cat2, hip):\n",
        "  if hip == \"?\":\n",
        "    hip = (cat1 ** 2 + cat2 ** 2) ** (1/2)\n",
        "    print(f\"A hipotenusa é: {hip}\")\n",
        "  elif cat1 == \"?\":\n",
        "    cat1 = (hip ** 2 - cat2 ** 2) ** (1/2)\n",
        "    print(f\"O cateto é {cat1}\")\n",
        "  elif cat2 == \"?\":\n",
        "    cat2 = (hip ** 2 - cat1 ** 2)**(1/2)\n",
        "    print(f\"O cateto é {cat2}\")\n",
        "\n"
      ],
      "metadata": {
        "id": "muSOSg3zF7QM"
      },
      "execution_count": null,
      "outputs": []
    },
    {
      "cell_type": "code",
      "source": [
        "pitagoras(\"?\", 4, 5)"
      ],
      "metadata": {
        "colab": {
          "base_uri": "https://localhost:8080/"
        },
        "id": "gK_UD_ON3GGq",
        "outputId": "5a2aeeeb-0f04-4b8c-913e-8ae2873739b3"
      },
      "execution_count": null,
      "outputs": [
        {
          "output_type": "stream",
          "name": "stdout",
          "text": [
            "O cateto é 3.0\n"
          ]
        }
      ]
    },
    {
      "cell_type": "markdown",
      "source": [
        "#**Funções labdas e map**"
      ],
      "metadata": {
        "id": "zmxu-d5a54-d"
      }
    },
    {
      "cell_type": "code",
      "source": [
        "def area_quadrado(L):\n",
        "  area = L ** 2\n",
        "  print(area)"
      ],
      "metadata": {
        "id": "S8jjqZ6e3GMK"
      },
      "execution_count": null,
      "outputs": []
    },
    {
      "cell_type": "code",
      "source": [
        "area_quadrado(4)"
      ],
      "metadata": {
        "colab": {
          "base_uri": "https://localhost:8080/"
        },
        "id": "ocOzagIp3GO5",
        "outputId": "bda7647c-f812-45a7-b7cb-6c5fa9c51340"
      },
      "execution_count": null,
      "outputs": [
        {
          "output_type": "stream",
          "name": "stdout",
          "text": [
            "16\n"
          ]
        }
      ]
    },
    {
      "cell_type": "code",
      "source": [
        "area_quadrado = lambda x: x ** 2"
      ],
      "metadata": {
        "id": "r7yHeQPu3GRr"
      },
      "execution_count": null,
      "outputs": []
    },
    {
      "cell_type": "code",
      "source": [
        "area_quadrado(7)"
      ],
      "metadata": {
        "colab": {
          "base_uri": "https://localhost:8080/"
        },
        "id": "yGNNP-XG3GUl",
        "outputId": "3efa6093-e018-4ad3-dc6a-6b8b3c001e5d"
      },
      "execution_count": null,
      "outputs": [
        {
          "output_type": "execute_result",
          "data": {
            "text/plain": [
              "49"
            ]
          },
          "metadata": {},
          "execution_count": 22
        }
      ]
    },
    {
      "cell_type": "code",
      "source": [
        "area_retangulo = lambda a,b: a * b"
      ],
      "metadata": {
        "id": "OajPp4zg3GXa"
      },
      "execution_count": null,
      "outputs": []
    },
    {
      "cell_type": "code",
      "source": [
        "area_retangulo(4,7)"
      ],
      "metadata": {
        "colab": {
          "base_uri": "https://localhost:8080/"
        },
        "id": "0p131kz23GaX",
        "outputId": "ff6b61f5-ad67-4ea1-f23a-f4e19b7e6a57"
      },
      "execution_count": null,
      "outputs": [
        {
          "output_type": "execute_result",
          "data": {
            "text/plain": [
              "28"
            ]
          },
          "metadata": {},
          "execution_count": 25
        }
      ]
    },
    {
      "cell_type": "code",
      "source": [
        "# Associação de funções\n",
        "l = [2,4,5,8,3,6]\n",
        "areas = list(map(lambda x: x ** 2, l))\n",
        "print(areas)"
      ],
      "metadata": {
        "colab": {
          "base_uri": "https://localhost:8080/"
        },
        "id": "6-wYgcXw3Gdb",
        "outputId": "d769b397-3268-4b2f-f56d-07c51dc592a4"
      },
      "execution_count": null,
      "outputs": [
        {
          "output_type": "stream",
          "name": "stdout",
          "text": [
            "[4, 16, 25, 64, 9, 36]\n"
          ]
        }
      ]
    },
    {
      "cell_type": "markdown",
      "source": [
        "#**List comprehensions**\n",
        "\n",
        "Otimizar a ultilização de listas e diminui linhas de codigos"
      ],
      "metadata": {
        "id": "Q9YMn3Wp84Ce"
      }
    },
    {
      "cell_type": "code",
      "source": [
        "lista = []\n",
        "for valor in range(5):\n",
        "  lista.append(valor+10)\n",
        "print(lista)"
      ],
      "metadata": {
        "colab": {
          "base_uri": "https://localhost:8080/"
        },
        "id": "zki1oOjg7fwj",
        "outputId": "c56d3677-0330-424d-a962-556ca6bb5821"
      },
      "execution_count": null,
      "outputs": [
        {
          "output_type": "stream",
          "name": "stdout",
          "text": [
            "[10, 11, 12, 13, 14]\n"
          ]
        }
      ]
    },
    {
      "cell_type": "code",
      "source": [
        "lista = [valor + 10 for valor in range(5)]\n",
        "print(lista)"
      ],
      "metadata": {
        "colab": {
          "base_uri": "https://localhost:8080/"
        },
        "id": "PsL7n7aH7fzl",
        "outputId": "0a0e3349-2324-41fb-9d7a-9e228377acc2"
      },
      "execution_count": null,
      "outputs": [
        {
          "output_type": "stream",
          "name": "stdout",
          "text": [
            "[10, 11, 12, 13, 14]\n"
          ]
        }
      ]
    },
    {
      "cell_type": "code",
      "source": [
        "lista = []\n",
        "for numero in range(1,30):\n",
        "  if numero % 4 == 0:\n",
        "    lista.append(numero)\n",
        "print(f\"todos os números pare da sequencia são {lista}\")"
      ],
      "metadata": {
        "colab": {
          "base_uri": "https://localhost:8080/"
        },
        "id": "0vcWqut37f2d",
        "outputId": "2105b866-7bfa-4060-b232-b4dc735a0ccf"
      },
      "execution_count": null,
      "outputs": [
        {
          "output_type": "stream",
          "name": "stdout",
          "text": [
            "todos os números pare da sequencia são [2, 4, 6, 8, 10, 12, 14, 16, 18, 20, 22, 24, 26, 28]\n"
          ]
        }
      ]
    },
    {
      "cell_type": "code",
      "source": [
        "lista = [numero for numero in range(1,30) if numero % 4 == 0]\n",
        "print(lista)"
      ],
      "metadata": {
        "colab": {
          "base_uri": "https://localhost:8080/"
        },
        "id": "k8B4FIip7f5K",
        "outputId": "85559866-68d7-4827-e961-15e7c7f2b29f"
      },
      "execution_count": null,
      "outputs": [
        {
          "output_type": "stream",
          "name": "stdout",
          "text": [
            "[4, 8, 12, 16, 20, 24, 28]\n"
          ]
        }
      ]
    },
    {
      "cell_type": "code",
      "source": [
        "conceito = [\"Azul\" if nota >= 6 else \"Vermelho\" for nota in range(1,11)]\n",
        "print(conceito)"
      ],
      "metadata": {
        "colab": {
          "base_uri": "https://localhost:8080/"
        },
        "id": "OkI03fIY7f7r",
        "outputId": "62cadf49-bcca-4c9e-89f2-3c0f2a5c75bb"
      },
      "execution_count": null,
      "outputs": [
        {
          "output_type": "stream",
          "name": "stdout",
          "text": [
            "['Vermelho', 'Vermelho', 'Vermelho', 'Vermelho', 'Vermelho', 'Azul', 'Azul', 'Azul', 'Azul', 'Azul']\n"
          ]
        }
      ]
    },
    {
      "cell_type": "markdown",
      "source": [
        "#**Vetores (Arrays) e matrizes**"
      ],
      "metadata": {
        "id": "sTka8kkn7C3L"
      }
    },
    {
      "cell_type": "code",
      "source": [
        "# Matriz\n",
        "# 1 3 5 7\n",
        "# 2 4 6 8\n",
        "# 1 2 3 4"
      ],
      "metadata": {
        "id": "_lJpJj357f-K"
      },
      "execution_count": null,
      "outputs": []
    },
    {
      "cell_type": "code",
      "source": [
        "# Vetor\n",
        "# 5 10 15 20\n",
        "\n",
        "# ou\n",
        "\n",
        "# 3\n",
        "# 4\n",
        "# 5\n",
        "# 6"
      ],
      "metadata": {
        "id": "_mNImjiP7gAw"
      },
      "execution_count": null,
      "outputs": []
    },
    {
      "cell_type": "code",
      "source": [
        "vetor = [2,4,5,6]"
      ],
      "metadata": {
        "id": "y4B0UcWn7gDT"
      },
      "execution_count": null,
      "outputs": []
    },
    {
      "cell_type": "code",
      "source": [
        "type(vetor)"
      ],
      "metadata": {
        "colab": {
          "base_uri": "https://localhost:8080/"
        },
        "id": "peCeJRaB7gF5",
        "outputId": "d7bb768b-14f9-439d-a7d6-b6c10039fa35"
      },
      "execution_count": null,
      "outputs": [
        {
          "output_type": "execute_result",
          "data": {
            "text/plain": [
              "list"
            ]
          },
          "metadata": {},
          "execution_count": 20
        }
      ]
    },
    {
      "cell_type": "code",
      "source": [
        "matriz = [[1,2,3],\n",
        "          [4,5,6],\n",
        "          [7,8,9]]"
      ],
      "metadata": {
        "id": "_3MsLNtu7gIx"
      },
      "execution_count": null,
      "outputs": []
    },
    {
      "cell_type": "code",
      "source": [
        "type(matriz)"
      ],
      "metadata": {
        "colab": {
          "base_uri": "https://localhost:8080/"
        },
        "id": "XUoYTLiJ7gLd",
        "outputId": "78a61c4f-e376-4756-856c-8d80666812b7"
      },
      "execution_count": null,
      "outputs": [
        {
          "output_type": "execute_result",
          "data": {
            "text/plain": [
              "list"
            ]
          },
          "metadata": {},
          "execution_count": 23
        }
      ]
    },
    {
      "cell_type": "code",
      "source": [
        "import numpy as np"
      ],
      "metadata": {
        "id": "yAV9R_CP7gOe"
      },
      "execution_count": null,
      "outputs": []
    },
    {
      "cell_type": "code",
      "source": [
        "vetor2 = np.array([1,-3,4.3,5])"
      ],
      "metadata": {
        "id": "xHaLeFn17gR1"
      },
      "execution_count": null,
      "outputs": []
    },
    {
      "cell_type": "code",
      "source": [
        "type(vetor2)"
      ],
      "metadata": {
        "colab": {
          "base_uri": "https://localhost:8080/"
        },
        "id": "BrN2Fpet3GgD",
        "outputId": "7922e77a-ba52-4235-aa73-c3ddb8296943"
      },
      "execution_count": null,
      "outputs": [
        {
          "output_type": "execute_result",
          "data": {
            "text/plain": [
              "numpy.ndarray"
            ]
          },
          "metadata": {},
          "execution_count": 33
        }
      ]
    },
    {
      "cell_type": "code",
      "source": [
        "print(vetor2)"
      ],
      "metadata": {
        "colab": {
          "base_uri": "https://localhost:8080/"
        },
        "id": "uZhZjSS_3GjD",
        "outputId": "f318e196-d00c-4c7f-a11c-9be1aa8030b8"
      },
      "execution_count": null,
      "outputs": [
        {
          "output_type": "stream",
          "name": "stdout",
          "text": [
            "[ 1.  -3.   4.3  5. ]\n"
          ]
        }
      ]
    },
    {
      "cell_type": "code",
      "source": [
        "matriz2 = np.ones((2,3))\n",
        "matriz"
      ],
      "metadata": {
        "colab": {
          "base_uri": "https://localhost:8080/"
        },
        "id": "pJUXs7rl3Gml",
        "outputId": "5184d4ab-46a7-4134-f92a-5e236a9d20a9"
      },
      "execution_count": null,
      "outputs": [
        {
          "output_type": "execute_result",
          "data": {
            "text/plain": [
              "[[1, 2, 3], [4, 5, 6], [7, 8, 9]]"
            ]
          },
          "metadata": {},
          "execution_count": 41
        }
      ]
    },
    {
      "cell_type": "code",
      "source": [
        "type(matriz2)"
      ],
      "metadata": {
        "colab": {
          "base_uri": "https://localhost:8080/"
        },
        "id": "sP_wrVct_qs8",
        "outputId": "18b488c1-9c3c-4075-c337-c867c8ac96f4"
      },
      "execution_count": null,
      "outputs": [
        {
          "output_type": "execute_result",
          "data": {
            "text/plain": [
              "numpy.ndarray"
            ]
          },
          "metadata": {},
          "execution_count": 40
        }
      ]
    },
    {
      "cell_type": "code",
      "source": [
        "matriz3 = np.diag((2,4,6,8,10))\n",
        "matriz3"
      ],
      "metadata": {
        "colab": {
          "base_uri": "https://localhost:8080/"
        },
        "id": "8OBCZB6Q_qym",
        "outputId": "7a03713d-e79d-493b-c3bc-5053cb2326ee"
      },
      "execution_count": null,
      "outputs": [
        {
          "output_type": "execute_result",
          "data": {
            "text/plain": [
              "array([[ 2,  0,  0,  0,  0],\n",
              "       [ 0,  4,  0,  0,  0],\n",
              "       [ 0,  0,  6,  0,  0],\n",
              "       [ 0,  0,  0,  8,  0],\n",
              "       [ 0,  0,  0,  0, 10]])"
            ]
          },
          "metadata": {},
          "execution_count": 42
        }
      ]
    }
  ]
}